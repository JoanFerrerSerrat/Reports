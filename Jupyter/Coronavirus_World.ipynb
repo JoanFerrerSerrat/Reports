{
 "cells": [
  {
   "cell_type": "code",
   "execution_count": 1,
   "metadata": {},
   "outputs": [],
   "source": [
    "# import libraries\n",
    "import pandas as pd\n",
    "import numpy as np\n",
    "import datetime\n",
    "import matplotlib.pyplot as plt\n",
    "import seaborn as sns\n",
    "import json\n",
    "from pandas.io.json import json_normalize\n",
    "import urllib.request\n",
    "from datetime import datetime\n",
    "\n",
    "#from IPython.display import Image, display, HTML\n",
    "from IPython.display import display, HTML\n",
    "import ipywidgets as widgets\n",
    "from ipywidgets import interact\n",
    "#import scipy\n",
    "\n",
    "#import chart_studio.plotly as py\n",
    "#import plotly.graph_objs as go\n",
    "#from plotly.offline import iplot, init_notebook_mode\n",
    "#init_notebook_mode(connected=True)\n",
    "\n",
    "#import cufflinks as cf\n",
    "#cf.go_offline(connected=True)\n",
    "#cf.set_config_file(colorscale='plotly', world_readable=True)\n",
    "\n",
    "# Extra options\n",
    "#pd.options.display.max_rows = 30\n",
    "#pd.options.display.max_columns = 25\n",
    "\n",
    "# Show all code cells outputs\n",
    "#from IPython.core.interactiveshell import InteractiveShell\n",
    "#InteractiveShell.ast_node_interactivity = 'all'\n",
    "#\n",
    "#pd.set_option('display.max_rows', None)"
   ]
  },
  {
   "cell_type": "code",
   "execution_count": 2,
   "metadata": {},
   "outputs": [],
   "source": [
    "# constants\n",
    "path_source = \"https://opendata.ecdc.europa.eu/covid19/casedistribution/json/\"\n",
    "path_countries_with_no_population = \"https://https://raw.githubusercontent.com/JoanFerrerSerrat/Reports/master/Source/countries_with_no_population.csv\"\n",
    "path_countries_shorter_names = \"https://raw.githubusercontent.com/JoanFerrerSerrat/Reports/master/Source/countries_with_no_population.csv\""
   ]
  },
  {
   "cell_type": "code",
   "execution_count": 3,
   "metadata": {},
   "outputs": [],
   "source": [
    "# read main source\n",
    "response = urllib.request.urlopen(path_source)\n",
    "fileWeb = response.read()\n",
    "coronavirus_json_raw = json.loads(fileWeb)\n",
    "coronavirus_initial_df = json_normalize(coronavirus_json_raw['records'])\n",
    "\n",
    "# custom data for some countries without population \n",
    "country_without_population_df = pd.read_csv(path_countries_with_no_population, sep=';', encoding='utf-8')\n",
    "\n",
    "# custom data to shorten country names\n",
    "country_shorter_names_df = pd.read_csv(path_countries_shorter_names, sep=';', encoding='utf-8')"
   ]
  },
  {
   "cell_type": "code",
   "execution_count": 4,
   "metadata": {},
   "outputs": [],
   "source": [
    "# Cleansing dataset\n",
    "\n",
    "# just needed columns\n",
    "coronavirus_df = coronavirus_initial_df.loc[:, [\"countriesAndTerritories\", \"dateRep\", \"cases\", \"deaths\", \"popData2018\"]]\n",
    "\n",
    "# rename columns\n",
    "rename_column = {\"countriesAndTerritories\" : \"country\", \"dateRep\" : \"date\", \"popData2018\": \"population\"}\n",
    "coronavirus_df.rename(columns=rename_column, inplace=True)\n",
    "\n",
    "coronavirus_df[\"population\"] = np.where((coronavirus_df[\"population\"] == \"\") | (coronavirus_df[\"population\"].isna()), \"0\", coronavirus_df[\"population\"])\n",
    "\n",
    "# shorten country names\n",
    "coronavirus_df = pd.merge(coronavirus_df, country_shorter_names_df, left_on=\"country\", right_on=\"long_name\", how=\"left\")\n",
    "coronavirus_df[\"country\"] = np.where(coronavirus_df[\"long_name\"].notna(), coronavirus_df[\"short_name\"], coronavirus_df[\"country\"])\n",
    "del coronavirus_df[\"long_name\"]\n",
    "del coronavirus_df[\"short_name\"]\n",
    "\n",
    "# convert to the poper data type\n",
    "datatype_ict={'cases':int, 'deaths':int, 'population':float}\n",
    "coronavirus_df = coronavirus_df.astype(datatype_ict)\n",
    "\n",
    "# fullfill blanks in population\n",
    "coronavirus_df = pd.merge(coronavirus_df, country_without_population_df, on=\"country\", how=\"left\", suffixes=['','_temp'])\n",
    "coronavirus_df[\"population\"] = np.where(coronavirus_df[\"population\"] == 0, coronavirus_df[\"population_temp\"], coronavirus_df[\"population\"])\n",
    "#coronavirus_df[\"population\"] = np.where(((coronavirus_df[\"population\"] == \"\") | (coronavirus_df[\"population\"].isna())) & (coronavirus_df[\"population_temp\"].notna()), coronavirus_df[\"population_temp\"], coronavirus_df[\"population\"]) \n",
    "coronavirus_df = coronavirus_df[coronavirus_df[\"population\"].notna()]\n",
    "\n",
    "# cast to datetime\n",
    "coronavirus_df['date'] = coronavirus_df['date'].apply(lambda x: datetime.strptime(x, '%d/%m/%Y'))\n",
    "del coronavirus_df[\"population_temp\"]\n",
    "\n",
    "# sort by country and date\n",
    "coronavirus_df.sort_values(by = ['country', 'date'], inplace = True)"
   ]
  },
  {
   "cell_type": "markdown",
   "metadata": {},
   "source": [
    "All the metrics divided by population have a escala 100000. ex. deaths by 100000 people"
   ]
  },
  {
   "cell_type": "code",
   "execution_count": 5,
   "metadata": {},
   "outputs": [
    {
     "name": "stderr",
     "output_type": "stream",
     "text": [
      "C:\\ProgramData\\Anaconda3\\lib\\site-packages\\pandas\\core\\groupby\\generic.py:1315: FutureWarning: using a dict with renaming is deprecated and will be removed in a future version\n",
      "  return super(DataFrameGroupBy, self).aggregate(arg, *args, **kwargs)\n"
     ]
    }
   ],
   "source": [
    "escala = 100000\n",
    "\n",
    "coronavirus_agg_df = coronavirus_df.groupby([\"country\"]).agg(\n",
    "                             {\"cases\": {\"cases_sum\" : sum, \"cases_last\": \"last\"}, \n",
    "                              \"deaths\": {\"deaths_sum\" : sum, \"deaths_last\": \"last\"},\n",
    "                              \"population\" : {\"population\": np.mean}})\n",
    "\n",
    "coronavirus_agg_df.columns = coronavirus_agg_df.columns.droplevel()\n",
    "\n",
    "coronavirus_agg_df[\"cases_sum/pop\"]   = escala * (coronavirus_agg_df[\"cases_sum\"]  /coronavirus_agg_df[\"population\"])\n",
    "coronavirus_agg_df[\"cases_last/pop\"]  = escala * (coronavirus_agg_df[\"cases_last\"] /coronavirus_agg_df[\"population\"])\n",
    "coronavirus_agg_df[\"deaths_sum/pop\"]  = escala * (coronavirus_agg_df[\"deaths_sum\"] /coronavirus_agg_df[\"population\"])\n",
    "coronavirus_agg_df[\"deaths_last/pop\"] = escala * (coronavirus_agg_df[\"deaths_last\"]/coronavirus_agg_df[\"population\"])\n",
    "coronavirus_agg_df = coronavirus_agg_df.reset_index()"
   ]
  },
  {
   "cell_type": "code",
   "execution_count": 8,
   "metadata": {},
   "outputs": [
    {
     "data": {
      "application/vnd.jupyter.widget-view+json": {
       "model_id": "9cc4c7513e014e9cb0837836b2f1c8a5",
       "version_major": 2,
       "version_minor": 0
      },
      "text/plain": [
       "interactive(children=(Dropdown(description='metric_order_by', index=5, options=('cases_sum', 'cases_last', 'de…"
      ]
     },
     "metadata": {},
     "output_type": "display_data"
    }
   ],
   "source": [
    "# metric_order_by control\n",
    "list_columns_can_be_ordered = coronavirus_agg_df.select_dtypes(np.number).columns.tolist()\n",
    "list_columns_can_be_ordered.remove('population')\n",
    "country_list = []\n",
    "default_metric = \"deaths_sum/pop\"\n",
    "\n",
    "# min_pop\n",
    "min_n_population = 0\n",
    "max_n_population = 150000000\n",
    "step_n_population = 100000\n",
    "default_n_population = 40000000\n",
    "\n",
    "# list columns shown in table (remove population)\n",
    "list_columns_show = list(coronavirus_agg_df.columns)\n",
    "list_columns_show.remove(\"population\")\n",
    "\n",
    "@interact\n",
    "def show_articles_more_than(metric_order_by=widgets.Dropdown(options=list_columns_can_be_ordered, \n",
    "                                                             value=default_metric), \n",
    "                            min_pop=widgets.IntSlider(min=min_n_population, \n",
    "                                                      max=max_n_population, \n",
    "                                                      step=100000, \n",
    "                                                      value=default_n_population)):\n",
    "    global country_list\n",
    "    coronavirus_agg_df.sort_values(by = metric_order_by, ascending = False, inplace = True)\n",
    "    coronavirus_agg_df.reset_index()\n",
    "    display(HTML(f'<h2>Ordered by the column {metric_order_by}. Countries with more than {min_pop} people<h2>'))\n",
    "    display(coronavirus_agg_df.loc[coronavirus_agg_df[\"population\"] > min_pop, list_columns_show])\n",
    "    coronavirus_agg_df.loc[coronavirus_agg_df[\"population\"] > min_pop, [\"country\", metric_order_by]].head(10)\\\n",
    "                                                                                                    .plot(x = \"country\", \\\n",
    "                                                                                                     y=metric_order_by, \\\n",
    "                                                                                                     figsize=(50, 10))\n",
    "    plt.xticks(fontsize=30, rotation=90)\n",
    "    plt.gca().margins(x=0)\n",
    "    plt.yticks(fontsize=30)\n",
    "    metric = metric_order_by\n",
    "    country_list = coronavirus_agg_df.loc[coronavirus_agg_df[\"population\"] > min_pop, \"country\"].to_list()"
   ]
  },
  {
   "cell_type": "markdown",
   "metadata": {},
   "source": [
    "There is the option to select the countries that has been selected in the previous table and graphic."
   ]
  },
  {
   "cell_type": "code",
   "execution_count": 7,
   "metadata": {},
   "outputs": [
    {
     "data": {
      "application/vnd.jupyter.widget-view+json": {
       "model_id": "1d0ee0cf526245bf8ea3375758a73245",
       "version_major": 2,
       "version_minor": 0
      },
      "text/plain": [
       "interactive(children=(Dropdown(description='Metric', index=1, options=('cases', 'deaths'), value='deaths'), Da…"
      ]
     },
     "metadata": {},
     "output_type": "display_data"
    }
   ],
   "source": [
    "# metric_\n",
    "list_metrics = coronavirus_df.select_dtypes(np.number).columns.tolist()\n",
    "list_metrics.remove('population')\n",
    "\n",
    "metric_default = \"deaths\"\n",
    "metric_description = \"Metric\"\n",
    "\n",
    "# date_from\n",
    "date_from_description = 'From Date'\n",
    "date_from_disabled = False\n",
    "\n",
    "# date_to\n",
    "date_to_description = 'To Date'\n",
    "date_to_disabled = False\n",
    "\n",
    "# kind_plot\n",
    "list_graphic_kind = [\"swarm\", \"point\", \"bar\"]\n",
    "plot_description = \"Plot kind\"\n",
    "plot_kind_default = \"point\"\n",
    "\n",
    "# countries\n",
    "countries_description = \"Countries\"\n",
    "countries_default = country_list[:2]\n",
    "\n",
    "\n",
    "@interact\n",
    "def plot_temporal(metric_   = widgets.Dropdown( options = list_metrics, \n",
    "                                                description = metric_description, \n",
    "                                                value = metric_default ),\n",
    "                  date_from = widgets.DatePicker( description = date_from_description, \n",
    "                                                  disabled = date_from_disabled ),\n",
    "                  date_to   = widgets.DatePicker( description = date_to_description, \n",
    "                                                  disabled = date_to_disabled ),\n",
    "                  kind_plot = widgets.Dropdown( options = list_graphic_kind, \n",
    "                                                description = plot_description, \n",
    "                                                value = plot_kind_default ),\n",
    "                  countries = widgets.SelectMultiple( description = countries_description, \n",
    "                                                      value = countries_default, \n",
    "                                                      options = country_list )):\n",
    "   \n",
    "    # deal with dates\n",
    "    # documentation says it should work with date_from.value and date_to.value, it says it doesn't exists the property value\n",
    "    min_date_with_data = coronavirus_df.loc[(coronavirus_df.country.isin(countries)) & (coronavirus_df[metric_] > 0), [\"date\"]].min()\n",
    "    max_date_with_data = coronavirus_df.loc[(coronavirus_df.country.isin(countries)) & (coronavirus_df[metric_] > 0), [\"date\"]].max()\n",
    "    if date_from is None:\n",
    "        dt_from = min_date_with_data[0]\n",
    "    else:\n",
    "        dt_from = max(pd.to_datetime(datetime.date(date_from.year, date_from.month, date_from.day)), min_date_with_data[0])\n",
    "    if date_to is None:\n",
    "        dt_to = max_date_with_data[0]\n",
    "    else:\n",
    "        dt_to = min(pd.to_datetime(datetime.date(date_to.year, date_to.month, date_to.day)), max_date_with_data[0])\n",
    "    \n",
    "    display(countries)\n",
    "    \n",
    "    coronavirus_df['date_plot'] = coronavirus_df['date'].dt.strftime('%d-%m-%Y')\n",
    "    chart = sns.catplot(x = 'date_plot', y = metric_, hue = 'country', kind = kind_plot, \\\n",
    "                        data = (coronavirus_df.loc[(coronavirus_df.country.isin(countries)) & \\\n",
    "                               (coronavirus_df.date>=dt_from) & (coronavirus_df.date<=dt_to)]), legend_out=False)\n",
    "    chart.fig.set_size_inches(40,10)\n",
    "    chart.set_xticklabels(rotation=90, horizontalalignment='center', fontsize=20)\n",
    "    chart.set_yticklabels(fontsize=20)\n",
    "    plt.xlabel(\"\")\n",
    "    plt.ylabel(metric_, fontsize=24)\n",
    "    plt.legend(loc='upper left')"
   ]
  },
  {
   "cell_type": "code",
   "execution_count": null,
   "metadata": {},
   "outputs": [],
   "source": []
  }
 ],
 "metadata": {
  "kernelspec": {
   "display_name": "Python 3",
   "language": "python",
   "name": "python3"
  },
  "language_info": {
   "codemirror_mode": {
    "name": "ipython",
    "version": 3
   },
   "file_extension": ".py",
   "mimetype": "text/x-python",
   "name": "python",
   "nbconvert_exporter": "python",
   "pygments_lexer": "ipython3",
   "version": "3.7.3"
  }
 },
 "nbformat": 4,
 "nbformat_minor": 2
}
