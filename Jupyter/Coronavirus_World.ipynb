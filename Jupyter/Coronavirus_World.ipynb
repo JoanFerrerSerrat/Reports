{
 "cells": [
  {
   "cell_type": "markdown",
   "metadata": {},
   "source": [
    "# Coronavirus in the world\n",
    "\n",
    "This report uses three datasets that are online:\n",
    "<ul>\n",
    "    <li>The main dataset retrieves data in format json with number of cases and deaths by country and date. It is external and gets actualised many times during the day.</li>\n",
    "    <li>There is dataset created by me to provide population to the countries that missed it.</li>\n",
    "    <li>There is dataset created by me to shorten the name of some countries.</li>\n",
    "</ul>\n",
    "\n",
    "First it retrieves a table and a plot. It uses summarized dataset by country where are added the measures/population with a scale of 100.000. Those are the parameters: \n",
    "<ul>\n",
    "    <li>Metric to be ordered by&nbsp;(string) : It orders by the metric chosen.</li>\n",
    "    <li>Min pop/country&emsp;&emsp;&emsp;&ensp;(int)&emsp;&nbsp; : It filters by the countries with a minimum population</li>\n",
    "    <li>Top n rows&emsp;&emsp;&emsp;&emsp;&emsp;&ensp;&nbsp;(int)&emsp;&nbsp; : It filters by the number of top countries</li>\n",
    "</ul>\n",
    "\n",
    "Afterwards it retrieves a plot. It uses a dataset with a granularity of country and date. From the beginning it is filtered by the countries selected in the first dataset. Those are the parameters:\n",
    "<ul>\n",
    "    <li>Metric&emsp;&emsp; (string) : Metric to get analyzed.</li>\n",
    "    <li>From Date (date)&ensp; : From the date it will be showed the data. By dafault is minimum date when data is above 0 in any country for the selected metric</li>\n",
    "    <li>To Date&emsp;&nbsp; (date)&ensp; : To the date it will be showed the data. By dafault is maximum date when data is above 0 in any country for the selected metric</li>\n",
    "    <li>Plot Kind&ensp;&nbsp; (string) : Plot kind applied to plot.</li>\n",
    "    <li>Countries&ensp; (string) : Countries to be analyzed. It is restricted to the countries selected in the previous table and plot.</li>\n",
    "</ul>"
   ]
  },
  {
   "cell_type": "code",
   "execution_count": null,
   "metadata": {},
   "outputs": [],
   "source": [
    "# run only once\n",
    "#import sys\n",
    "#!{sys.executable} -m pip install pandas"
   ]
  },
  {
   "cell_type": "code",
   "execution_count": null,
   "metadata": {},
   "outputs": [],
   "source": [
    "# run only once\n",
    "#import sys\n",
    "#!{sys.executable} -m pip install matplotlib"
   ]
  },
  {
   "cell_type": "code",
   "execution_count": null,
   "metadata": {},
   "outputs": [],
   "source": [
    "# run only once\n",
    "#import sys\n",
    "#!{sys.executable} -m pip install seaborn"
   ]
  },
  {
   "cell_type": "code",
   "execution_count": 17,
   "metadata": {},
   "outputs": [],
   "source": [
    "# import libraries\n",
    "import pandas as pd\n",
    "import numpy as np\n",
    "import datetime\n",
    "import matplotlib.pyplot as plt\n",
    "import seaborn as sns\n",
    "import json\n",
    "from pandas.io.json import json_normalize\n",
    "import urllib.request\n",
    "from datetime import datetime\n",
    "\n",
    "from IPython.display import display, HTML\n",
    "import ipywidgets as widgets\n",
    "from ipywidgets import interact"
   ]
  },
  {
   "cell_type": "code",
   "execution_count": 18,
   "metadata": {},
   "outputs": [],
   "source": [
    "# constants\n",
    "path_source = \"https://opendata.ecdc.europa.eu/covid19/casedistribution/json/\"\n",
    "path_countries_with_no_population = \"https://raw.githubusercontent.com/JoanFerrerSerrat/Reports/master/Source/countries_with_no_population.csv\"\n",
    "path_countries_shorter_names = \"https://raw.githubusercontent.com/JoanFerrerSerrat/Reports/master/Source/countries_shorter_names.csv\""
   ]
  },
  {
   "cell_type": "code",
   "execution_count": 19,
   "metadata": {},
   "outputs": [],
   "source": [
    "# read main source\n",
    "response = urllib.request.urlopen(path_source)\n",
    "fileWeb = response.read()\n",
    "coronavirus_json_raw = json.loads(fileWeb)\n",
    "coronavirus_initial_df = json_normalize(coronavirus_json_raw['records'])\n",
    "\n",
    "# custom data for some countries without population \n",
    "country_without_population_df = pd.read_csv(path_countries_with_no_population, sep=';', encoding='utf-8')\n",
    "\n",
    "# custom data to shorten country names\n",
    "country_shorter_names_df = pd.read_csv(path_countries_shorter_names, sep=';', encoding='utf-8')"
   ]
  },
  {
   "cell_type": "code",
   "execution_count": 20,
   "metadata": {},
   "outputs": [],
   "source": [
    "# Cleansing dataset\n",
    "\n",
    "# just needed columns\n",
    "coronavirus_df = coronavirus_initial_df.loc[:, [\"countriesAndTerritories\", \"dateRep\", \"cases\", \"deaths\", \"popData2018\"]]\n",
    "\n",
    "# rename columns\n",
    "rename_column = {\"countriesAndTerritories\" : \"country\", \"dateRep\" : \"date\", \"popData2018\": \"population\"}\n",
    "coronavirus_df.rename(columns=rename_column, inplace=True)\n",
    "\n",
    "coronavirus_df[\"population\"] = np.where((coronavirus_df[\"population\"] == \"\") | (coronavirus_df[\"population\"].isna()), \"0\", coronavirus_df[\"population\"])\n",
    "\n",
    "# shorten country names\n",
    "coronavirus_df = pd.merge(coronavirus_df, country_shorter_names_df, left_on=\"country\", right_on=\"long_name\", how=\"left\")\n",
    "coronavirus_df[\"country\"] = np.where(coronavirus_df[\"long_name\"].notna(), coronavirus_df[\"short_name\"], coronavirus_df[\"country\"])\n",
    "del coronavirus_df[\"long_name\"]\n",
    "del coronavirus_df[\"short_name\"]\n",
    "\n",
    "# convert to the poper data type\n",
    "datatype_ict={'cases':int, 'deaths':int, 'population':float}\n",
    "coronavirus_df = coronavirus_df.astype(datatype_ict)\n",
    "\n",
    "# fullfill blanks in population\n",
    "coronavirus_df = pd.merge(coronavirus_df, country_without_population_df, on=\"country\", how=\"left\", suffixes=['','_temp'])\n",
    "coronavirus_df[\"population\"] = np.where(coronavirus_df[\"population\"] == 0, coronavirus_df[\"population_temp\"], coronavirus_df[\"population\"])\n",
    "#coronavirus_df[\"population\"] = np.where(((coronavirus_df[\"population\"] == \"\") | (coronavirus_df[\"population\"].isna())) & (coronavirus_df[\"population_temp\"].notna()), coronavirus_df[\"population_temp\"], coronavirus_df[\"population\"]) \n",
    "coronavirus_df = coronavirus_df[coronavirus_df[\"population\"].notna()]\n",
    "\n",
    "# cast to datetime\n",
    "coronavirus_df['date'] = coronavirus_df['date'].apply(lambda x: datetime.strptime(x, '%d/%m/%Y'))\n",
    "del coronavirus_df[\"population_temp\"]\n",
    "\n",
    "# sort by country and date\n",
    "coronavirus_df.sort_values(by = ['country', 'date'], inplace = True)"
   ]
  },
  {
   "cell_type": "markdown",
   "metadata": {},
   "source": [
    "All the metrics divided by population have a escala 100000. ex. deaths by 100000 people"
   ]
  },
  {
   "cell_type": "code",
   "execution_count": 28,
   "metadata": {},
   "outputs": [],
   "source": [
    "scale = 100000\n",
    "\n",
    "# Calculate aggregates by country\n",
    "#coronavirus_agg_df = coronavirus_df.groupby([\"country\"]).agg(\n",
    "#                             {\"cases\": {\"cases_sum\" : sum, \"cases_last\": \"last\"}, \n",
    "#                              \"deaths\": {\"deaths_sum\" : sum, \"deaths_last\": \"last\"},\n",
    "#                              \"population\" : np.mean})\n",
    "#\n",
    "coronavirus_agg_df = coronavirus_df.groupby([\"country\"]).agg(\n",
    "                             {\"cases\": [\"sum\", \"last\"], \n",
    "                              \"deaths\": [\"sum\", \"last\"],\n",
    "                              \"population\" : np.mean}).reset_index()\n",
    "\n",
    "coronavirus_agg_df.columns = coronavirus_agg_df.columns.droplevel()\n",
    "coronavirus_agg_df.columns = [\"country\", \"cases_sum\", \"cases_last\", \"deaths_sum\", \"deaths_last\", \"population\"]\n",
    "coronavirus_agg_df.head()\n",
    "\n",
    "# relative measures to population\n",
    "coronavirus_agg_df[\"cases_sum/pop\"]   = scale * (coronavirus_agg_df[\"cases_sum\"]  /coronavirus_agg_df[\"population\"])\n",
    "coronavirus_agg_df[\"cases_last/pop\"]  = scale * (coronavirus_agg_df[\"cases_last\"] /coronavirus_agg_df[\"population\"])\n",
    "coronavirus_agg_df[\"deaths_sum/pop\"]  = scale * (coronavirus_agg_df[\"deaths_sum\"] /coronavirus_agg_df[\"population\"])\n",
    "coronavirus_agg_df[\"deaths_last/pop\"] = scale * (coronavirus_agg_df[\"deaths_last\"]/coronavirus_agg_df[\"population\"])"
   ]
  },
  {
   "cell_type": "markdown",
   "metadata": {},
   "source": [
    "It retrieves a table and a graphic. It uses summarized dataset by country where are added the measures/population with a scale of 100.000. Those are the parameters: \n",
    "<ul>\n",
    "    <li>Metric to be ordered by&nbsp;(string) : It orders by the metric chosen.</li>\n",
    "    <li>Min pop/country&emsp;&emsp;&emsp;&ensp;(int)&emsp;&nbsp;   : It filters by the countries with a minimum population</li>\n",
    "    <li>Top n rows&emsp;&emsp;&emsp;&emsp;&emsp;&ensp;&nbsp;(int)&emsp;&nbsp;   : It filters by the number of top countries</li>\n",
    "</ul>\n",
    "The countries selected in this dataset will be also pre-filtered in the next graphic."
   ]
  },
  {
   "cell_type": "code",
   "execution_count": 14,
   "metadata": {},
   "outputs": [
    {
     "data": {
      "application/vnd.jupyter.widget-view+json": {
       "model_id": "6b747268e22741819c0236da38262528",
       "version_major": 2,
       "version_minor": 0
      },
      "text/plain": [
       "interactive(children=(Dropdown(description='Metric to be ordered by', index=6, options=('cases_sum', 'cases_la…"
      ]
     },
     "metadata": {},
     "output_type": "display_data"
    }
   ],
   "source": [
    "\n",
    "from ipywidgets import HBox, Label\n",
    "style = {'description_width': 'initial'}\n",
    "\n",
    "# metric_order_by control\n",
    "list_columns_can_be_ordered = coronavirus_agg_df.select_dtypes(np.number).columns.tolist()\n",
    "list_columns_can_be_ordered.remove('population')\n",
    "description_metric = \"Metric to be ordered by\"\n",
    "country_list = []\n",
    "default_metric = \"deaths_sum/pop\"\n",
    "\n",
    "# min_pop\n",
    "min_n_population = 0\n",
    "max_n_population = 150000000\n",
    "description_n_population = \"Min pop/country\"\n",
    "step_n_population = 100000\n",
    "default_n_population = 40000000\n",
    "\n",
    "# top\n",
    "top_n_rows_min = 2\n",
    "top_n_rows_default = 30\n",
    "top_n_rows_description = \"Top n rows\"\n",
    "top_n_rows_disabled = False\n",
    "\n",
    "# list columns shown in table (remove population)\n",
    "list_columns_show = list(coronavirus_agg_df.columns)\n",
    "list_columns_show.remove(\"population\")\n",
    "\n",
    "@interact\n",
    "def show_metric_by_country(metric_order_by=widgets.Dropdown(options = list_columns_can_be_ordered,\n",
    "                                                             description = description_metric,\n",
    "                                                             style = style,\n",
    "                                                             value = default_metric), \n",
    "                            min_pop=widgets.IntSlider(min = min_n_population, \n",
    "                                                      max = max_n_population, \n",
    "                                                      description = description_n_population,\n",
    "                                                      style = style,\n",
    "                                                      step = step_n_population, \n",
    "                                                      value = default_n_population),\n",
    "                            top=widgets.IntText(value = top_n_rows_default, \n",
    "                                                description = top_n_rows_description,\n",
    "                                                style = style,\n",
    "                                                disabled = top_n_rows_disabled)):\n",
    "    global country_list\n",
    "    head = top\n",
    "    if head < 2:\n",
    "        head = 2\n",
    "    coronavirus_agg_df.sort_values(by = metric_order_by, ascending = False, inplace = True)\n",
    "    coronavirus_agg_df.reset_index()\n",
    "    display(HTML(f'<h2>Ordered by the column {metric_order_by}.<br/>Countries with more than {min_pop} people.<br/>It retrieves the first {head} rows.<h2>'))\n",
    "    display(coronavirus_agg_df.loc[coronavirus_agg_df[\"population\"] > min_pop, list_columns_show].head(head))\n",
    "    coronavirus_agg_df.loc[coronavirus_agg_df[\"population\"] > min_pop, [\"country\", metric_order_by]].head(10)\\\n",
    "                                                                                                    .plot(x = \"country\", \\\n",
    "                                                                                                     y=metric_order_by, \\\n",
    "                                                                                                     figsize=(50, 10))\n",
    "    plt.xticks(fontsize=30, rotation=90)\n",
    "    plt.gca().margins(x=0)\n",
    "    plt.yticks(fontsize=30)\n",
    "    metric = metric_order_by\n",
    "    country_list = coronavirus_agg_df.loc[coronavirus_agg_df[\"population\"] > min_pop, \"country\"].head(head).to_list()"
   ]
  },
  {
   "cell_type": "markdown",
   "metadata": {},
   "source": [
    "it retrieves a plot. It uses a dataset with a granularity of country and date. From the beginning it is filtered by the countries selected in the first dataset. Those are the parameters:\n",
    "<ul>\n",
    "    <li>Metric&emsp;&emsp; (string) : Metric to get analyzed.</li>\n",
    "    <li>From Date (date)&ensp; : From the date it will be showed the data. By dafault is minimum date when data is above 0 in any country for the selected metric</li>\n",
    "    <li>To Date&emsp;&nbsp; (date)&ensp; : To the date it will be showed the data. By dafault is maximum date when data is above 0 in any country for the selected metric</li>\n",
    "    <li>Plot Kind&ensp;&nbsp; (string) : Plot kind applied to plot.</li>\n",
    "    <li>Countries&ensp; (string) : Countries to be analyzed. It is restricted to the countries selected in the previous table and plot.</li>\n",
    "</ul>"
   ]
  },
  {
   "cell_type": "code",
   "execution_count": 15,
   "metadata": {},
   "outputs": [
    {
     "data": {
      "application/vnd.jupyter.widget-view+json": {
       "model_id": "4b302bf2582241b6b9114acea478665c",
       "version_major": 2,
       "version_minor": 0
      },
      "text/plain": [
       "interactive(children=(Dropdown(description='Metric', index=1, options=('cases', 'deaths'), style=DescriptionSt…"
      ]
     },
     "metadata": {},
     "output_type": "display_data"
    }
   ],
   "source": [
    "# metric_\n",
    "list_metrics = coronavirus_df.select_dtypes(np.number).columns.tolist()\n",
    "list_metrics.remove('population')\n",
    "\n",
    "metric_default = \"deaths\"\n",
    "metric_description = \"Metric\"\n",
    "\n",
    "# date_from\n",
    "date_from_description = 'From Date'\n",
    "date_from_disabled = False\n",
    "\n",
    "# date_to\n",
    "date_to_description = 'To Date'\n",
    "date_to_disabled = False\n",
    "\n",
    "# kind_plot\n",
    "list_graphic_kind = [\"swarm\", \"point\", \"bar\"]\n",
    "plot_description = \"Plot Kind\"\n",
    "plot_kind_default = \"point\"\n",
    "\n",
    "# countries\n",
    "countries_description = \"Countries\"\n",
    "countries_default = country_list[:2]\n",
    "\n",
    "\n",
    "@interact\n",
    "def show_metric_by_country_date(metric_   = widgets.Dropdown( options = list_metrics, \n",
    "                                                description = metric_description, \n",
    "                                                style = style,\n",
    "                                                value = metric_default ),\n",
    "                  date_from = widgets.DatePicker( description = date_from_description,\n",
    "                                                  style = style,\n",
    "                                                  disabled = date_from_disabled ),\n",
    "                  date_to   = widgets.DatePicker( description = date_to_description,\n",
    "                                                  style = style,\n",
    "                                                  disabled = date_to_disabled ),\n",
    "                  kind_plot = widgets.Dropdown( options = list_graphic_kind, \n",
    "                                                description = plot_description,\n",
    "                                                style = style,\n",
    "                                                value = plot_kind_default ),\n",
    "                  countries = widgets.SelectMultiple( description = countries_description, \n",
    "                                                      style = style,\n",
    "                                                      value = countries_default, \n",
    "                                                      options = country_list )):\n",
    "   \n",
    "    # deal with dates\n",
    "    # documentation says it should work with date_from.value and date_to.value, it says it doesn't exists the property value\n",
    "    min_date_with_data = coronavirus_df.loc[(coronavirus_df.country.isin(countries)) & (coronavirus_df[metric_] > 0), [\"date\"]].min()\n",
    "    max_date_with_data = coronavirus_df.loc[(coronavirus_df.country.isin(countries)) & (coronavirus_df[metric_] > 0), [\"date\"]].max()\n",
    "    if date_from is None:\n",
    "        dt_from = min_date_with_data[0]\n",
    "    else:\n",
    "        dt_from = max(pd.Timestamp(datetime(date_from.year, date_from.month, date_from.day)), min_date_with_data[0])\n",
    "    if date_to is None:\n",
    "        dt_to = max_date_with_data[0]\n",
    "    else:\n",
    "        dt_to = min(pd.Timestamp(datetime(date_to.year, date_to.month, date_to.day)), max_date_with_data[0])\n",
    "    \n",
    "    display(countries)\n",
    "    \n",
    "    coronavirus_df['date_plot'] = coronavirus_df['date'].dt.strftime('%d-%m-%Y')\n",
    "    chart = sns.catplot(x = 'date_plot', y = metric_, hue = 'country', kind = kind_plot, \\\n",
    "                        data = (coronavirus_df.loc[(coronavirus_df.country.isin(countries)) & \\\n",
    "                               (coronavirus_df.date>=dt_from) & (coronavirus_df.date<=dt_to)]), legend_out=False)\n",
    "    chart.fig.set_size_inches(40,10)\n",
    "    chart.set_xticklabels(rotation=90, horizontalalignment='center', fontsize=20)\n",
    "    chart.set_yticklabels(fontsize=20)\n",
    "    plt.xlabel(\"\")\n",
    "    plt.ylabel(metric_, fontsize=24)\n",
    "    plt.legend(loc='upper left')"
   ]
  },
  {
   "cell_type": "code",
   "execution_count": null,
   "metadata": {},
   "outputs": [],
   "source": []
  }
 ],
 "metadata": {
  "kernelspec": {
   "display_name": "Python 3",
   "language": "python",
   "name": "python3"
  },
  "language_info": {
   "codemirror_mode": {
    "name": "ipython",
    "version": 3
   },
   "file_extension": ".py",
   "mimetype": "text/x-python",
   "name": "python",
   "nbconvert_exporter": "python",
   "pygments_lexer": "ipython3",
   "version": "3.7.3"
  }
 },
 "nbformat": 4,
 "nbformat_minor": 2
}
