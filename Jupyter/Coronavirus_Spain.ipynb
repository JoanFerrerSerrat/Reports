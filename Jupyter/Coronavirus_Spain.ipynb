{
 "cells": [
  {
   "cell_type": "markdown",
   "metadata": {},
   "source": [
    "# Coronavirus in Spain\n",
    "\n",
    "This report returns the evolution in Spain of the measures\n",
    "<ul>\n",
    "    <li>cases</li>\n",
    "    <li>recovered</li>\n",
    "    <li>hospitalized</li>\n",
    "    <li>icu</li>\n",
    "    <li>deaths</li>\n",
    "    <li>active</li>\n",
    "    <li>new_cases/active</li>\n",
    "</ul>\n",
    "related to coronavirus. Each measure represent the number of individuals in each situation per 100000 people.\n",
    "Granularity is day and data is also shown by CA (different autonomous communities of Spain).\n",
    "Each measure is ordered in a descending order \n",
    "<ul>\n",
    "    <li>to compare in the graphics autonomous comunities with similar values of measures</li>\n",
    "    <li>and to identify easily which autonomous comunities have higher or lower measure values</li>"
   ]
  },
  {
   "cell_type": "code",
   "execution_count": 1,
   "metadata": {},
   "outputs": [],
   "source": [
    "# run only once\n",
    "#import sys\n",
    "#!{sys.executable} -m pip install pandas"
   ]
  },
  {
   "cell_type": "code",
   "execution_count": 2,
   "metadata": {},
   "outputs": [],
   "source": [
    "# run only once\n",
    "#import sys\n",
    "#!{sys.executable} -m pip install matplotlib"
   ]
  },
  {
   "cell_type": "code",
   "execution_count": 16,
   "metadata": {},
   "outputs": [],
   "source": [
    "import pandas as pd\n",
    "import numpy as np\n",
    "import matplotlib.pyplot as plt\n",
    "from datetime import datetime\n",
    "\n",
    "from IPython.display import display, HTML\n",
    "import ipywidgets as widgets\n",
    "from ipywidgets import interact"
   ]
  },
  {
   "cell_type": "code",
   "execution_count": 4,
   "metadata": {},
   "outputs": [],
   "source": [
    "path_master = \"https://raw.githubusercontent.com/datadista/datasets/master/COVID%2019/ccaa_covid19_##name##_long.csv\"\n",
    "path = \"C:/Users/Robocop/Documents/JupyterNotebooks/Source/CCAA_population.csv\"\n",
    "measures = [\"cases\", \"recovered\", \"hospitalized\", \"icu\", \"deaths\"]"
   ]
  },
  {
   "cell_type": "code",
   "execution_count": 5,
   "metadata": {},
   "outputs": [],
   "source": [
    "# function to get sources\n",
    "def retrieve_source_df(name_path, rename_column) :\n",
    "    '''\n",
    "    It returns a dataframe\n",
    "    \n",
    "    Args:\n",
    "        name_path (str)            : string to be replaced in the path to get the correct path\n",
    "        rename_column (dictionary) : dictionary with the original column names and the names wanted to rename to\n",
    "        \n",
    "    Returns:\n",
    "        DataFrame\n",
    "    '''\n",
    "    # Columns needed of the DataFrame\n",
    "    use_columns= ['fecha', 'CCAA', 'total']\n",
    "    \n",
    "    # Replacing ##name## in the path_master by the first parameter is the proper path \n",
    "    path = path_master.replace('##name##', name_path)\n",
    "    result_df = pd.read_csv(path, parse_dates=['fecha'], usecols=use_columns, encoding='utf-8')\n",
    "    \n",
    "    # Swcond parameter is used to rename the fields of the daaframe\n",
    "    result_df.rename(columns=rename_column, inplace=True)\n",
    "    result_df =  result_df[result_df.CA != 'Total']\n",
    "    result_df.set_index = ['date', 'CA']  \n",
    "    \n",
    "    return result_df"
   ]
  },
  {
   "cell_type": "code",
   "execution_count": 6,
   "metadata": {},
   "outputs": [],
   "source": [
    "# get sources\n",
    "coronavirus_cases_df = retrieve_source_df('casos', {'fecha' : 'date', 'CCAA' : 'CA', 'total' : 'cases'})\n",
    "coronavirus_recovered_df = retrieve_source_df('altas', {'fecha' : 'date', 'CCAA' : 'CA', 'total' : 'recovered'})\n",
    "coronavirus_hospitalized_df = retrieve_source_df('hospitalizados', {'fecha' : 'date', 'CCAA' : 'CA', 'total' : 'hospitalized'})\n",
    "coronavirus_icu_df = retrieve_source_df('uci', {'fecha' : 'date', 'CCAA' : 'CA', 'total' : 'icu'})\n",
    "coronavirus_deaths_df = retrieve_source_df('fallecidos', {'fecha' : 'date', 'CCAA' : 'CA', 'total' : 'deaths'})"
   ]
  },
  {
   "cell_type": "code",
   "execution_count": 7,
   "metadata": {},
   "outputs": [],
   "source": [
    "# join all dataframes in one\n",
    "coronavirus_df = pd.merge(coronavirus_cases_df, coronavirus_recovered_df, on=['date', 'CA'], how='outer')\n",
    "coronavirus_df = pd.merge(coronavirus_df, coronavirus_hospitalized_df, on=['date', 'CA'], how='outer')\n",
    "coronavirus_df = pd.merge(coronavirus_df, coronavirus_icu_df, on=['date', 'CA'], how='outer')\n",
    "coronavirus_df = pd.merge(coronavirus_df, coronavirus_deaths_df, on=['date', 'CA'], how='outer')\n",
    "coronavirus_df.fillna(0, inplace=True)\n",
    "\n",
    "# change to the proper data types of the dataframe\n",
    "datatype_ict={'cases':int, 'recovered':int, 'hospitalized':int, 'icu':int, 'deaths':int}\n",
    "coronavirus_df = coronavirus_df.astype(datatype_ict)"
   ]
  },
  {
   "cell_type": "code",
   "execution_count": 8,
   "metadata": {},
   "outputs": [],
   "source": [
    "# get custom data to get the population for each \n",
    "use_columns = ['CA', 'Population']\n",
    "ccaa_df = pd.read_csv(path, sep=';', encoding='utf-8', usecols=use_columns) \n",
    "coronavirus_df = pd.merge(coronavirus_df, ccaa_df, on='CA', how='inner')"
   ]
  },
  {
   "cell_type": "code",
   "execution_count": 9,
   "metadata": {},
   "outputs": [],
   "source": [
    "# Active\n",
    "coronavirus_df[\"active\"]=coronavirus_df[\"cases\"]-np.where(coronavirus_df[\"recovered\"].isnull(), 0, coronavirus_df[\"recovered\"].isnull())-np.where(coronavirus_df[\"deaths\"].isnull(), 0, coronavirus_df[\"deaths\"].isnull())\n",
    "measures.append('active')"
   ]
  },
  {
   "cell_type": "code",
   "execution_count": 10,
   "metadata": {},
   "outputs": [],
   "source": [
    "# add new_cases/active column\n",
    "acum_coronavirus_df = coronavirus_df.loc[:, [\"date\", \"CA\", \"active\"]].groupby(by=[\"CA\", \"date\"]).sum().groupby(level=[0]).cumsum().reset_index()\n",
    "acum_coronavirus_df.rename(columns={\"active\": \"acum_active\"}, inplace=True)\n",
    "coronavirus_df = pd.merge(coronavirus_df, acum_coronavirus_df, on=[\"CA\", \"date\"])\n",
    "coronavirus_df[\"new_cases/active\"]=np.where(coronavirus_df[\"acum_active\"]==0, np.NaN, coronavirus_df[\"cases\"]/coronavirus_df[\"acum_active\"])\n",
    "measures.append('new_cases/active')"
   ]
  },
  {
   "cell_type": "code",
   "execution_count": 11,
   "metadata": {},
   "outputs": [],
   "source": [
    "# Convert measure to number of individuals each 100000 citizens\n",
    "scale = 100000\n",
    "\n",
    "coronavirus_df[\"cases_100\"] = scale*(coronavirus_df.cases/coronavirus_df.Population)\n",
    "coronavirus_df[\"recovered_100\"] = scale*(coronavirus_df.recovered/coronavirus_df.Population)\n",
    "coronavirus_df[\"hospitalized_100\"] = scale*(coronavirus_df.hospitalized/coronavirus_df.Population)\n",
    "coronavirus_df[\"icu_100\"] = scale*(coronavirus_df.icu/coronavirus_df.Population)\n",
    "coronavirus_df[\"deaths_100\"] = scale*(coronavirus_df.deaths/coronavirus_df.Population)\n",
    "coronavirus_df[\"active_100\"] = scale*(coronavirus_df.active/coronavirus_df.Population)\n",
    "coronavirus_df[\"new_cases/active_100\"] = coronavirus_df[\"new_cases/active\"]\n",
    "\n",
    "f_100 = lambda x : x + \"_100\"\n",
    "measures_100 = list(map(f_100, measures))"
   ]
  },
  {
   "cell_type": "code",
   "execution_count": 12,
   "metadata": {},
   "outputs": [],
   "source": [
    "# get  tiles so that in each graphic there are enough autonomous communities to compare data and at the same time they get readable\n",
    "# each measure must be ordered in a descending order \n",
    "  # to compare in the graphics autonomous comunities with similar values of measures\n",
    "  # and to identify easily which autonomous communities have higher or lower measure values\n",
    "list_columns = ['date', 'CA']\n",
    "list_columns.extend(measures_100)\n",
    "\n",
    "rank_df = coronavirus_df.loc[: , list_columns].groupby(['CA']).last()\n",
    "\n",
    "tile = lambda x : np.floor(1+(rank_df[x+\"_100\"].rank(ascending=False)-0.01)/4).astype(int)\n",
    "\n",
    "tile_measures = []\n",
    "\n",
    "for measure in measures:\n",
    "    rank_df[\"tile_\"+measure] = tile(measure)\n",
    "    tile_measures.append(\"tile_\"+measure)\n",
    "\n",
    "rank_df = rank_df.loc[:,tile_measures]"
   ]
  },
  {
   "cell_type": "code",
   "execution_count": 13,
   "metadata": {},
   "outputs": [],
   "source": [
    "coronavirus_df = pd.merge(coronavirus_df, rank_df, on=['CA'], how='inner')\n",
    "coronavirus_spain_df = coronavirus_df.groupby(\"date\").sum().reset_index()"
   ]
  },
  {
   "cell_type": "code",
   "execution_count": 18,
   "metadata": {},
   "outputs": [
    {
     "data": {
      "application/vnd.jupyter.widget-view+json": {
       "model_id": "57023df7a11c4bbe9f5928814f88eb8a",
       "version_major": 2,
       "version_minor": 0
      },
      "text/plain": [
       "interactive(children=(Dropdown(description='Measure', index=4, options=('cases', 'recovered', 'hospitalized', …"
      ]
     },
     "metadata": {},
     "output_type": "display_data"
    }
   ],
   "source": [
    "@interact\n",
    "def plot_temporal(measure   = widgets.Dropdown( options = measures, \n",
    "                                                description = \"Measure\", \n",
    "                                                value = \"deaths\" )):\n",
    "    fig, ax = plt.subplots(1, 5, sharey=True)\n",
    "    fig.set_figwidth(30)\n",
    "    fig.suptitle(measure, fontsize=25)\n",
    "    for i in range(1,6):\n",
    "        list_CA = coronavirus_df[coronavirus_df[\"tile_\"+measure]==i][\"CA\"].unique()\n",
    "        for _ca in list_CA:\n",
    "            ax[i-1].set_yscale('log')\n",
    "            coronavirus_df[coronavirus_df[\"CA\"]==_ca].plot(x=\"date\", y=measure+\"_100\", ax=ax[i-1], label=_ca)\n",
    "    \n",
    "    plt.figure(figsize=(30, 4))\n",
    "    plt.yscale('log')\n",
    "    plt.plot_date(x=coronavirus_spain_df[\"date\"], y=scale*(coronavirus_spain_df[measure]/coronavirus_spain_df[\"Population\"]), label=\"Spain\", linestyle='-');\n",
    "    plt.legend();"
   ]
  },
  {
   "cell_type": "code",
   "execution_count": null,
   "metadata": {},
   "outputs": [],
   "source": []
  }
 ],
 "metadata": {
  "kernelspec": {
   "display_name": "Python 3",
   "language": "python",
   "name": "python3"
  },
  "language_info": {
   "codemirror_mode": {
    "name": "ipython",
    "version": 3
   },
   "file_extension": ".py",
   "mimetype": "text/x-python",
   "name": "python",
   "nbconvert_exporter": "python",
   "pygments_lexer": "ipython3",
   "version": "3.7.3"
  }
 },
 "nbformat": 4,
 "nbformat_minor": 2
}
