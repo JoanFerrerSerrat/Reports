{
 "cells": [
  {
   "cell_type": "code",
   "execution_count": null,
   "metadata": {},
   "outputs": [],
   "source": [
    "# run only once\n",
    "import sys\n",
    "!{sys.executable} -m pip install pandas"
   ]
  },
  {
   "cell_type": "code",
   "execution_count": null,
   "metadata": {},
   "outputs": [],
   "source": [
    "# run only once\n",
    "import sys\n",
    "!{sys.executable} -m pip install matplotlib"
   ]
  },
  {
   "cell_type": "code",
   "execution_count": null,
   "metadata": {},
   "outputs": [],
   "source": [
    "# run only once\n",
    "import sys\n",
    "!{sys.executable} -m pip install scipy"
   ]
  },
  {
   "cell_type": "code",
   "execution_count": null,
   "metadata": {},
   "outputs": [],
   "source": [
    "# run only once\n",
    "import sys\n",
    "!{sys.executable} -m pip install matplotlib"
   ]
  },
  {
   "cell_type": "code",
   "execution_count": null,
   "metadata": {},
   "outputs": [],
   "source": [
    "import pandas as pd\n",
    "import numpy as np\n",
    "import matplotlib.pyplot as plt\n",
    "from scipy import stats\n",
    "from sklearn.linear_model import LinearRegression\n",
    "from sklearn.metrics import mean_squared_error, r2_score\n",
    "from sklearn.preprocessing import PolynomialFeatures\n",
    "\n",
    "# Fields are ging to be used\n",
    "# happy:    How happy would you say you are?\n",
    "# sclmeet:  How often do you meet socially with friends, relatives or work colleagues?\n",
    "# hinctnta: Household's total net income, all sources\n",
    "\n",
    "# Read data from csv file into a dataframe (To run it this path must be changed)\n",
    "data_df = pd.read_csv(\"https://raw.githubusercontent.com/JoanFerrerSerrat/Reports/master/Source/MoneyVsSociabilityToGetHappier.csv\", usecols=[\"happy\", \"sclmeet\", \"hinctnta\"])\n",
    "\n",
    "data_df.head()"
   ]
  },
  {
   "cell_type": "code",
   "execution_count": null,
   "metadata": {},
   "outputs": [],
   "source": [
    "# how it works with deciles (Income)\n",
    "# http://wikiprogress.org/articles/inequality/deciles/\n",
    "\n",
    "# change column names to make naming more intuitive\n",
    "data_df.columns = [\"hapiness\", \"sociability\", \"income\"]\n",
    "\n",
    "# Remove unuseful data of income (no answer, don't know, ...)\n",
    "data_df = data_df[data_df[\"hapiness\"] < 77]\n",
    "\n",
    "data_df.head()"
   ]
  },
  {
   "cell_type": "code",
   "execution_count": null,
   "metadata": {},
   "outputs": [],
   "source": [
    "# X = Hapiness Y = sociability\n",
    "# Remove unuseful data of hapiness (no answer, don't know, ...)\n",
    "data_sociability_df = data_df[data_df['sociability'] < 77] #36445\n",
    "\n",
    "X_sociability = data_sociability_df['sociability'].values.reshape(-1, 1)\n",
    "Y_sociability = data_sociability_df['hapiness'].values.reshape(-1, 1)\n",
    "\n",
    "linear_regressor = LinearRegression()\n",
    "linear_regressor.fit(X_sociability, Y_sociability)\n",
    "Y_pred_sociability = linear_regressor.predict(X_sociability)\n",
    "\n",
    "plt.scatter(X_sociability, Y_sociability, s=100, alpha=0.00197)\n",
    "plt.plot(X_sociability, Y_pred_sociability, color='red')\n",
    "plt.xlabel('Sociability')\n",
    "plt.ylabel('Hapiness')\n",
    "plt.show()"
   ]
  },
  {
   "cell_type": "code",
   "execution_count": null,
   "metadata": {},
   "outputs": [],
   "source": [
    "# model evaluation \n",
    "mse = mean_squared_error(Y_sociability, Y_pred_sociability) \n",
    "  \n",
    "rmse = np.sqrt(mean_squared_error(Y_sociability, Y_pred_sociability)) \n",
    "r2 = r2_score(Y_sociability, Y_pred_sociability) \n",
    "  \n",
    "# printing values \n",
    "print('MSE of Linear model', mse) \n",
    "print('R2 score of Linear model: ', r2)"
   ]
  },
  {
   "cell_type": "code",
   "execution_count": null,
   "metadata": {},
   "outputs": [],
   "source": [
    "# Try if it's polynomial degree 2\n",
    "poly_features = PolynomialFeatures(degree = 2) \n",
    "x_poly = poly_features.fit_transform(X_sociability)\n",
    "\n",
    "lin_reg = LinearRegression() \n",
    "lin_reg.fit(x_poly, Y_sociability) \n",
    "y_pred = lin_reg.predict(x_poly)\n",
    "\n",
    "plt.scatter(X_sociability, Y_sociability, s=100, alpha=0.00197)\n",
    "plt.plot(X_sociability, y_pred, color='red')\n",
    "plt.xlabel('Sociability')\n",
    "plt.ylabel('Hapiness')\n",
    "plt.show()"
   ]
  },
  {
   "cell_type": "code",
   "execution_count": null,
   "metadata": {},
   "outputs": [],
   "source": [
    "# Try if it's polynomial degree 3\n",
    "poly_features = PolynomialFeatures(degree = 3) \n",
    "x_poly = poly_features.fit_transform(X_sociability)\n",
    "\n",
    "lin_reg = LinearRegression() \n",
    "lin_reg.fit(x_poly, Y_sociability) \n",
    "y_pred = lin_reg.predict(x_poly)\n",
    "\n",
    "plt.scatter(X_sociability, Y_sociability, s=100, alpha=0.00197)\n",
    "plt.plot(X_sociability, y_pred, color='red')\n",
    "plt.xlabel('Sociability')\n",
    "plt.ylabel('Hapiness')\n",
    "plt.show()"
   ]
  },
  {
   "cell_type": "code",
   "execution_count": null,
   "metadata": {},
   "outputs": [],
   "source": [
    "# X = Hapiness Y = Income\n",
    "# Remove unuseful data of hapiness (no answer, don't know, ...)\n",
    "data_income_df = data_df[data_df['income'] < 77] #36445\n",
    "\n",
    "X_income = data_income_df['income'].values.reshape(-1, 1)\n",
    "Y_income = data_income_df['hapiness'].values.reshape(-1, 1)\n",
    "\n",
    "linear_regressor = LinearRegression()\n",
    "linear_regressor.fit(X_income, Y_income)\n",
    "Y_pred_income = linear_regressor.predict(X_income)\n",
    "\n",
    "plt.scatter(X_income, Y_income, s=100, alpha=0.00197)\n",
    "plt.plot(X_income, Y_pred_income, color='red')\n",
    "plt.xlabel('Income')\n",
    "plt.ylabel('Hapiness')\n",
    "plt.show()"
   ]
  },
  {
   "cell_type": "code",
   "execution_count": null,
   "metadata": {},
   "outputs": [],
   "source": [
    "# Try if it's polynomial degree 2\n",
    "poly_features = PolynomialFeatures(degree = 2) \n",
    "x_poly = poly_features.fit_transform(X_income)\n",
    "\n",
    "lin_reg = LinearRegression() \n",
    "lin_reg.fit(x_poly, Y_income) \n",
    "y_pred = lin_reg.predict(x_poly)\n",
    "\n",
    "plt.scatter(X_income, Y_income, s=100, alpha=0.00197)\n",
    "plt.plot(X_income, y_pred, color='red')\n",
    "plt.xlabel('Income')\n",
    "plt.ylabel('Hapiness')\n",
    "plt.show()"
   ]
  },
  {
   "cell_type": "code",
   "execution_count": null,
   "metadata": {},
   "outputs": [],
   "source": [
    "slope, intercept, r_value, p_value, std_err = stats.linregress(X_sociability[:,0], Y_pred_sociability[:,0])\n",
    "print('Sociability slope: ' + str(slope))\n",
    "\n",
    "slope, intercept, r_value, p_value, std_err = stats.linregress(X_income[:,0], Y_pred_income[:,0])\n",
    "print('Income slope:    ' + str(slope))"
   ]
  },
  {
   "cell_type": "code",
   "execution_count": null,
   "metadata": {},
   "outputs": [],
   "source": [
    "Y_sociability.shape"
   ]
  },
  {
   "cell_type": "code",
   "execution_count": null,
   "metadata": {},
   "outputs": [],
   "source": [
    "X_income.shape"
   ]
  },
  {
   "cell_type": "code",
   "execution_count": null,
   "metadata": {},
   "outputs": [],
   "source": [
    "# Pearsons correlation\n",
    "X_sociability = X_sociability.reshape(43990, )\n",
    "Y_sociability = Y_sociability.reshape(43990, )\n",
    "X_income = X_income.reshape(36311, )\n",
    "Y_income = Y_income.reshape(36311, )\n",
    "\n",
    "corr, _ = stats.pearsonr(X_sociability, Y_sociability)\n",
    "print('Sociability Pearsons correlation: %.3f' % corr)\n",
    "\n",
    "corr, _ = stats.pearsonr(X_income, Y_income)\n",
    "print('Income Pearsons correlation: %.3f' % corr)"
   ]
  },
  {
   "cell_type": "code",
   "execution_count": null,
   "metadata": {},
   "outputs": [],
   "source": [
    "# Spearman's correlation\n",
    "corr, _ = stats.spearmanr(X_sociability, Y_sociability)\n",
    "print('Sociability Spearmans correlation: %.3f' % corr)\n",
    "\n",
    "corr, _ = stats.spearmanr(X_income, Y_income)\n",
    "print('Hapiness Spearmans correlation: %.3f' % corr)"
   ]
  }
 ],
 "metadata": {
  "kernelspec": {
   "display_name": "Python 3",
   "language": "python",
   "name": "python3"
  },
  "language_info": {
   "codemirror_mode": {
    "name": "ipython",
    "version": 3
   },
   "file_extension": ".py",
   "mimetype": "text/x-python",
   "name": "python",
   "nbconvert_exporter": "python",
   "pygments_lexer": "ipython3",
   "version": "3.6.5"
  }
 },
 "nbformat": 4,
 "nbformat_minor": 2
}
