{
 "cells": [
  {
   "cell_type": "code",
   "execution_count": 2,
   "metadata": {},
   "outputs": [
    {
     "data": {
      "text/html": [
       "<div>\n",
       "<style scoped>\n",
       "    .dataframe tbody tr th:only-of-type {\n",
       "        vertical-align: middle;\n",
       "    }\n",
       "\n",
       "    .dataframe tbody tr th {\n",
       "        vertical-align: top;\n",
       "    }\n",
       "\n",
       "    .dataframe thead th {\n",
       "        text-align: right;\n",
       "    }\n",
       "</style>\n",
       "<table border=\"1\" class=\"dataframe\">\n",
       "  <thead>\n",
       "    <tr style=\"text-align: right;\">\n",
       "      <th></th>\n",
       "      <th>happy</th>\n",
       "      <th>sclmeet</th>\n",
       "      <th>hinctnta</th>\n",
       "    </tr>\n",
       "  </thead>\n",
       "  <tbody>\n",
       "    <tr>\n",
       "      <th>0</th>\n",
       "      <td>5</td>\n",
       "      <td>6</td>\n",
       "      <td>77</td>\n",
       "    </tr>\n",
       "    <tr>\n",
       "      <th>1</th>\n",
       "      <td>5</td>\n",
       "      <td>4</td>\n",
       "      <td>5</td>\n",
       "    </tr>\n",
       "    <tr>\n",
       "      <th>2</th>\n",
       "      <td>8</td>\n",
       "      <td>4</td>\n",
       "      <td>2</td>\n",
       "    </tr>\n",
       "    <tr>\n",
       "      <th>3</th>\n",
       "      <td>8</td>\n",
       "      <td>4</td>\n",
       "      <td>4</td>\n",
       "    </tr>\n",
       "    <tr>\n",
       "      <th>4</th>\n",
       "      <td>5</td>\n",
       "      <td>6</td>\n",
       "      <td>2</td>\n",
       "    </tr>\n",
       "  </tbody>\n",
       "</table>\n",
       "</div>"
      ],
      "text/plain": [
       "   happy  sclmeet  hinctnta\n",
       "0      5        6        77\n",
       "1      5        4         5\n",
       "2      8        4         2\n",
       "3      8        4         4\n",
       "4      5        6         2"
      ]
     },
     "execution_count": 2,
     "metadata": {},
     "output_type": "execute_result"
    }
   ],
   "source": [
    "import pandas as pd\n",
    "import numpy as np\n",
    "import  as plt\n",
    "from scipy import stats\n",
    "from sklearn.linear_model import LinearRegression\n",
    "from sklearn.metrics import mean_squared_error, r2_score\n",
    "from sklearn.preprocessing import PolynomialFeatures\n",
    "\n",
    "# Fields are ging to be used\n",
    "# happy:    How happy would you say you are?\n",
    "# sclmeet:  How often do you meet socially with friends, relatives or work colleagues?\n",
    "# hinctnta: Household's total net income, all sources\n",
    "\n",
    "# Read data from csv file into a dataframe (To run it this path must be changed)\n",
    "data_df = pd.read_csv(\"https://raw.githubusercontent.com/JoanFerrerSerrat/Reports/master/Source/MoneyVsSociabilityToGetHappier.csv\", usecols=[\"happy\", \"sclmeet\", \"hinctnta\"])\n",
    "\n",
    "data_df.head()"
   ]
  },
  {
   "cell_type": "code",
   "execution_count": 3,
   "metadata": {},
   "outputs": [
    {
     "data": {
      "text/html": [
       "<div>\n",
       "<style scoped>\n",
       "    .dataframe tbody tr th:only-of-type {\n",
       "        vertical-align: middle;\n",
       "    }\n",
       "\n",
       "    .dataframe tbody tr th {\n",
       "        vertical-align: top;\n",
       "    }\n",
       "\n",
       "    .dataframe thead th {\n",
       "        text-align: right;\n",
       "    }\n",
       "</style>\n",
       "<table border=\"1\" class=\"dataframe\">\n",
       "  <thead>\n",
       "    <tr style=\"text-align: right;\">\n",
       "      <th></th>\n",
       "      <th>hapiness</th>\n",
       "      <th>sociability</th>\n",
       "      <th>income</th>\n",
       "    </tr>\n",
       "  </thead>\n",
       "  <tbody>\n",
       "    <tr>\n",
       "      <th>0</th>\n",
       "      <td>5</td>\n",
       "      <td>6</td>\n",
       "      <td>77</td>\n",
       "    </tr>\n",
       "    <tr>\n",
       "      <th>1</th>\n",
       "      <td>5</td>\n",
       "      <td>4</td>\n",
       "      <td>5</td>\n",
       "    </tr>\n",
       "    <tr>\n",
       "      <th>2</th>\n",
       "      <td>8</td>\n",
       "      <td>4</td>\n",
       "      <td>2</td>\n",
       "    </tr>\n",
       "    <tr>\n",
       "      <th>3</th>\n",
       "      <td>8</td>\n",
       "      <td>4</td>\n",
       "      <td>4</td>\n",
       "    </tr>\n",
       "    <tr>\n",
       "      <th>4</th>\n",
       "      <td>5</td>\n",
       "      <td>6</td>\n",
       "      <td>2</td>\n",
       "    </tr>\n",
       "  </tbody>\n",
       "</table>\n",
       "</div>"
      ],
      "text/plain": [
       "   hapiness  sociability  income\n",
       "0         5            6      77\n",
       "1         5            4       5\n",
       "2         8            4       2\n",
       "3         8            4       4\n",
       "4         5            6       2"
      ]
     },
     "execution_count": 3,
     "metadata": {},
     "output_type": "execute_result"
    }
   ],
   "source": [
    "# how it works with deciles (Income)\n",
    "# http://wikiprogress.org/articles/inequality/deciles/\n",
    "\n",
    "# change column names to make naming more intuitive\n",
    "data_df.columns = [\"hapiness\", \"sociability\", \"income\"]\n",
    "\n",
    "# Remove unuseful data of income (no answer, don't know, ...)\n",
    "data_df = data_df[data_df[\"hapiness\"] < 77]\n",
    "\n",
    "data_df.head()"
   ]
  },
  {
   "cell_type": "code",
   "execution_count": 12,
   "metadata": {},
   "outputs": [
    {
     "data": {
      "image/png": "[encoded data removed]",
      "text/plain": [
       "<Figure size 432x288 with 1 Axes>"
      ]
     },
     "metadata": {},
     "output_type": "display_data"
    }
   ],
   "source": [
    "# X = Hapiness Y = sociability\n",
    "# Remove unuseful data of hapiness (no answer, don't know, ...)\n",
    "data_sociability_df = data_df[data_df['sociability'] < 77] #36445\n",
    "\n",
    "X_sociability = data_sociability_df['sociability'].values.reshape(-1, 1)\n",
    "Y_sociability = data_sociability_df['hapiness'].values.reshape(-1, 1)\n",
    "\n",
    "linear_regressor = LinearRegression()\n",
    "linear_regressor.fit(X_sociability, Y_sociability)\n",
    "Y_pred_sociability = linear_regressor.predict(X_sociability)\n",
    "\n",
    "plt.scatter(X_sociability, Y_sociability, s=100, alpha=0.00197)\n",
    "plt.plot(X_sociability, Y_pred_sociability, color='red')\n",
    "plt.xlabel('Sociability')\n",
    "plt.ylabel('Hapiness')\n",
    "plt.show()"
   ]
  },
  {
   "cell_type": "code",
   "execution_count": 6,
   "metadata": {},
   "outputs": [
    {
     "name": "stdout",
     "output_type": "stream",
     "text": [
      "MSE of Linear model 3.2632832749923137\n",
      "R2 score of Linear model:  0.05495349165341423\n"
     ]
    }
   ],
   "source": [
    "# model evaluation \n",
    "mse = mean_squared_error(Y_sociability, Y_pred_sociability) \n",
    "  \n",
    "rmse = np.sqrt(mean_squared_error(Y_sociability, Y_pred_sociability)) \n",
    "r2 = r2_score(Y_sociability, Y_pred_sociability) \n",
    "  \n",
    "# printing values \n",
    "print('MSE of Linear model', mse) \n",
    "print('R2 score of Linear model: ', r2)"
   ]
  },
  {
   "cell_type": "code",
   "execution_count": 13,
   "metadata": {},
   "outputs": [
    {
     "data": {
      "image/png": "[encoded data removed]",
      "text/plain": [
       "<Figure size 432x288 with 1 Axes>"
      ]
     },
     "metadata": {},
     "output_type": "display_data"
    }
   ],
   "source": [
    "# Try if it's polynomial degree 2\n",
    "poly_features = PolynomialFeatures(degree = 2) \n",
    "x_poly = poly_features.fit_transform(X_sociability)\n",
    "\n",
    "lin_reg = LinearRegression() \n",
    "lin_reg.fit(x_poly, Y_sociability) \n",
    "y_pred = lin_reg.predict(x_poly)\n",
    "\n",
    "plt.scatter(X_sociability, Y_sociability, s=100, alpha=0.00197)\n",
    "plt.plot(X_sociability, y_pred, color='red')\n",
    "plt.xlabel('Sociability')\n",
    "plt.ylabel('Hapiness')\n",
    "plt.show()"
   ]
  },
  {
   "cell_type": "code",
   "execution_count": 14,
   "metadata": {},
   "outputs": [
    {
     "data": {
      "image/png": "[encoded data removed]",
      "text/plain": [
       "<Figure size 432x288 with 1 Axes>"
      ]
     },
     "metadata": {},
     "output_type": "display_data"
    }
   ],
   "source": [
    "# Try if it's polynomial degree 3\n",
    "poly_features = PolynomialFeatures(degree = 3) \n",
    "x_poly = poly_features.fit_transform(X_sociability)\n",
    "\n",
    "lin_reg = LinearRegression() \n",
    "lin_reg.fit(x_poly, Y_sociability) \n",
    "y_pred = lin_reg.predict(x_poly)\n",
    "\n",
    "plt.scatter(X_sociability, Y_sociability, s=100, alpha=0.00197)\n",
    "plt.plot(X_sociability, y_pred, color='red')\n",
    "plt.xlabel('Sociability')\n",
    "plt.ylabel('Hapiness')\n",
    "plt.show()"
   ]
  },
  {
   "cell_type": "code",
   "execution_count": 15,
   "metadata": {},
   "outputs": [
    {
     "data": {
      "image/png": "[encoded data removed]",
      "text/plain": [
       "<Figure size 432x288 with 1 Axes>"
      ]
     },
     "metadata": {},
     "output_type": "display_data"
    }
   ],
   "source": [
    "# X = Hapiness Y = Income\n",
    "# Remove unuseful data of hapiness (no answer, don't know, ...)\n",
    "data_income_df = data_df[data_df['income'] < 77] #36445\n",
    "\n",
    "X_income = data_income_df['income'].values.reshape(-1, 1)\n",
    "Y_income = data_income_df['hapiness'].values.reshape(-1, 1)\n",
    "\n",
    "linear_regressor = LinearRegression()\n",
    "linear_regressor.fit(X_income, Y_income)\n",
    "Y_pred_income = linear_regressor.predict(X_income)\n",
    "\n",
    "plt.scatter(X_income, Y_income, s=100, alpha=0.00197)\n",
    "plt.plot(X_income, Y_pred_income, color='red')\n",
    "plt.xlabel('Income')\n",
    "plt.ylabel('Hapiness')\n",
    "plt.show()"
   ]
  },
  {
   "cell_type": "code",
   "execution_count": 16,
   "metadata": {},
   "outputs": [
    {
     "data": {
      "image/png": "[encoded data removed]",
      "text/plain": [
       "<Figure size 432x288 with 1 Axes>"
      ]
     },
     "metadata": {},
     "output_type": "display_data"
    }
   ],
   "source": [
    "# Try if it's polynomial degree 2\n",
    "poly_features = PolynomialFeatures(degree = 2) \n",
    "x_poly = poly_features.fit_transform(X_income)\n",
    "\n",
    "lin_reg = LinearRegression() \n",
    "lin_reg.fit(x_poly, Y_income) \n",
    "y_pred = lin_reg.predict(x_poly)\n",
    "\n",
    "plt.scatter(X_income, Y_income, s=100, alpha=0.00197)\n",
    "plt.plot(X_income, y_pred, color='red')\n",
    "plt.xlabel('Income')\n",
    "plt.ylabel('Hapiness')\n",
    "plt.show()"
   ]
  },
  {
   "cell_type": "code",
   "execution_count": 11,
   "metadata": {},
   "outputs": [
    {
     "name": "stdout",
     "output_type": "stream",
     "text": [
      "sociability slope: 0.2793494682849006\n",
      "income slope:    0.15035870522762246\n"
     ]
    }
   ],
   "source": [
    "slope, intercept, r_value, p_value, std_err = stats.linregress(X_sociability[:,0], Y_pred_sociability[:,0])\n",
    "print('Sociability slope: ' + str(slope))\n",
    "\n",
    "slope, intercept, r_value, p_value, std_err = stats.linregress(X_income[:,0], Y_pred_income[:,0])\n",
    "print('Income slope:    ' + str(slope))"
   ]
  },
  {
   "cell_type": "code",
   "execution_count": 17,
   "metadata": {},
   "outputs": [
    {
     "data": {
      "text/plain": [
       "(43990, 1)"
      ]
     },
     "execution_count": 17,
     "metadata": {},
     "output_type": "execute_result"
    }
   ],
   "source": [
    "Y_sociability.shape"
   ]
  },
  {
   "cell_type": "code",
   "execution_count": 18,
   "metadata": {},
   "outputs": [
    {
     "data": {
      "text/plain": [
       "(36311, 1)"
      ]
     },
     "execution_count": 18,
     "metadata": {},
     "output_type": "execute_result"
    }
   ],
   "source": [
    "X_income.shape"
   ]
  },
  {
   "cell_type": "code",
   "execution_count": 20,
   "metadata": {},
   "outputs": [
    {
     "name": "stdout",
     "output_type": "stream",
     "text": [
      "Sociability Pearsons correlation: 0.234\n",
      "Income Pearsons correlation: 0.222\n"
     ]
    }
   ],
   "source": [
    "# Pearsons correlation\n",
    "X_sociability = X_sociability.reshape(43990, )\n",
    "Y_sociability = Y_sociability.reshape(43990, )\n",
    "X_income = X_income.reshape(36311, )\n",
    "Y_income = Y_income.reshape(36311, )\n",
    "\n",
    "corr, _ = stats.pearsonr(X_sociability, Y_sociability)\n",
    "print('Sociability Pearsons correlation: %.3f' % corr)\n",
    "\n",
    "corr, _ = stats.pearsonr(X_income, Y_income)\n",
    "print('Income Pearsons correlation: %.3f' % corr)"
   ]
  },
  {
   "cell_type": "code",
   "execution_count": 21,
   "metadata": {},
   "outputs": [
    {
     "name": "stdout",
     "output_type": "stream",
     "text": [
      "Sociability Spearmans correlation: 0.211\n",
      "Hapiness Spearmans correlation: 0.206\n"
     ]
    }
   ],
   "source": [
    "# Spearman's correlation\n",
    "corr, _ = stats.spearmanr(X_sociability, Y_sociability)\n",
    "print('Sociability Spearmans correlation: %.3f' % corr)\n",
    "\n",
    "corr, _ = stats.spearmanr(X_income, Y_income)\n",
    "print('Hapiness Spearmans correlation: %.3f' % corr)"
   ]
  }
 ],
 "metadata": {
  "kernelspec": {
   "display_name": "Python 3",
   "language": "python",
   "name": "python3"
  },
  "language_info": {
   "codemirror_mode": {
    "name": "ipython",
    "version": 3
   },
   "file_extension": ".py",
   "mimetype": "text/x-python",
   "name": "python",
   "nbconvert_exporter": "python",
   "pygments_lexer": "ipython3",
   "version": "3.6.5"
  }
 },
 "nbformat": 4,
 "nbformat_minor": 2
}
